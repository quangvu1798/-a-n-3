{
 "cells": [
  {
   "cell_type": "code",
   "execution_count": 1,
   "metadata": {},
   "outputs": [],
   "source": [
    "import numpy as np \n",
    "import pandas as pd\n",
    "import matplotlib.pyplot as plt\n",
    "import seaborn as sns\n",
    "from sklearn.linear_model import LogisticRegression\n",
    "from sklearn.preprocessing import MinMaxScaler\n",
    "from sklearn import metrics\n",
    "from sklearn.model_selection import train_test_split\n",
    "import logistic_regression"
   ]
  },
  {
   "cell_type": "code",
   "execution_count": 2,
   "metadata": {},
   "outputs": [
    {
     "data": {
      "text/html": [
       "<div>\n",
       "<style scoped>\n",
       "    .dataframe tbody tr th:only-of-type {\n",
       "        vertical-align: middle;\n",
       "    }\n",
       "\n",
       "    .dataframe tbody tr th {\n",
       "        vertical-align: top;\n",
       "    }\n",
       "\n",
       "    .dataframe thead th {\n",
       "        text-align: right;\n",
       "    }\n",
       "</style>\n",
       "<table border=\"1\" class=\"dataframe\">\n",
       "  <thead>\n",
       "    <tr style=\"text-align: right;\">\n",
       "      <th></th>\n",
       "      <th>network_age</th>\n",
       "      <th>Aggregate_Total_Rev</th>\n",
       "      <th>Aggregate_SMS_Rev</th>\n",
       "      <th>Aggregate_Data_Rev</th>\n",
       "      <th>Aggregate_Data_Vol</th>\n",
       "      <th>Aggregate_ONNET_REV</th>\n",
       "      <th>Aggregate_OFFNET_REV</th>\n",
       "      <th>aug_user_type_3G</th>\n",
       "      <th>sep_user_type_3G</th>\n",
       "      <th>aug_fav_a_mobilink</th>\n",
       "      <th>aug_fav_a_ufone</th>\n",
       "      <th>sep_fav_a_mobilink</th>\n",
       "      <th>sep_fav_a_ufone</th>\n",
       "      <th>Class</th>\n",
       "    </tr>\n",
       "  </thead>\n",
       "  <tbody>\n",
       "    <tr>\n",
       "      <th>0</th>\n",
       "      <td>1914</td>\n",
       "      <td>1592.7200</td>\n",
       "      <td>23.26</td>\n",
       "      <td>2.5</td>\n",
       "      <td>11.6113</td>\n",
       "      <td>25523</td>\n",
       "      <td>99000</td>\n",
       "      <td>0</td>\n",
       "      <td>0</td>\n",
       "      <td>0</td>\n",
       "      <td>0</td>\n",
       "      <td>1</td>\n",
       "      <td>0</td>\n",
       "      <td>1</td>\n",
       "    </tr>\n",
       "    <tr>\n",
       "      <th>1</th>\n",
       "      <td>2073</td>\n",
       "      <td>1404.1496</td>\n",
       "      <td>174.45</td>\n",
       "      <td>27.5</td>\n",
       "      <td>2531.7246</td>\n",
       "      <td>14584</td>\n",
       "      <td>77299</td>\n",
       "      <td>0</td>\n",
       "      <td>0</td>\n",
       "      <td>1</td>\n",
       "      <td>0</td>\n",
       "      <td>0</td>\n",
       "      <td>1</td>\n",
       "      <td>1</td>\n",
       "    </tr>\n",
       "    <tr>\n",
       "      <th>2</th>\n",
       "      <td>3139</td>\n",
       "      <td>85.5504</td>\n",
       "      <td>14.34</td>\n",
       "      <td>5.0</td>\n",
       "      <td>29133.0557</td>\n",
       "      <td>477</td>\n",
       "      <td>4194</td>\n",
       "      <td>0</td>\n",
       "      <td>0</td>\n",
       "      <td>0</td>\n",
       "      <td>0</td>\n",
       "      <td>0</td>\n",
       "      <td>0</td>\n",
       "      <td>1</td>\n",
       "    </tr>\n",
       "    <tr>\n",
       "      <th>3</th>\n",
       "      <td>139</td>\n",
       "      <td>2315.2292</td>\n",
       "      <td>19.25</td>\n",
       "      <td>52.5</td>\n",
       "      <td>267441.2813</td>\n",
       "      <td>50316</td>\n",
       "      <td>52400</td>\n",
       "      <td>0</td>\n",
       "      <td>0</td>\n",
       "      <td>0</td>\n",
       "      <td>0</td>\n",
       "      <td>0</td>\n",
       "      <td>1</td>\n",
       "      <td>0</td>\n",
       "    </tr>\n",
       "    <tr>\n",
       "      <th>4</th>\n",
       "      <td>143</td>\n",
       "      <td>973.9664</td>\n",
       "      <td>21.86</td>\n",
       "      <td>22.5</td>\n",
       "      <td>920871.0674</td>\n",
       "      <td>4032</td>\n",
       "      <td>15476</td>\n",
       "      <td>1</td>\n",
       "      <td>1</td>\n",
       "      <td>1</td>\n",
       "      <td>0</td>\n",
       "      <td>0</td>\n",
       "      <td>1</td>\n",
       "      <td>0</td>\n",
       "    </tr>\n",
       "  </tbody>\n",
       "</table>\n",
       "</div>"
      ],
      "text/plain": [
       "   network_age  Aggregate_Total_Rev  Aggregate_SMS_Rev  Aggregate_Data_Rev  \\\n",
       "0         1914            1592.7200              23.26                 2.5   \n",
       "1         2073            1404.1496             174.45                27.5   \n",
       "2         3139              85.5504              14.34                 5.0   \n",
       "3          139            2315.2292              19.25                52.5   \n",
       "4          143             973.9664              21.86                22.5   \n",
       "\n",
       "   Aggregate_Data_Vol  Aggregate_ONNET_REV  Aggregate_OFFNET_REV  \\\n",
       "0             11.6113                25523                 99000   \n",
       "1           2531.7246                14584                 77299   \n",
       "2          29133.0557                  477                  4194   \n",
       "3         267441.2813                50316                 52400   \n",
       "4         920871.0674                 4032                 15476   \n",
       "\n",
       "   aug_user_type_3G  sep_user_type_3G  aug_fav_a_mobilink  aug_fav_a_ufone  \\\n",
       "0                 0                 0                   0                0   \n",
       "1                 0                 0                   1                0   \n",
       "2                 0                 0                   0                0   \n",
       "3                 0                 0                   0                0   \n",
       "4                 1                 1                   1                0   \n",
       "\n",
       "   sep_fav_a_mobilink  sep_fav_a_ufone  Class  \n",
       "0                   1                0      1  \n",
       "1                   0                1      1  \n",
       "2                   0                0      1  \n",
       "3                   0                1      0  \n",
       "4                   0                1      0  "
      ]
     },
     "execution_count": 2,
     "metadata": {},
     "output_type": "execute_result"
    }
   ],
   "source": [
    "df = pd.read_csv('../data.csv')\n",
    "lista = [ 'Class']\n",
    "df[lista] = df[lista].apply(lambda x:x.map({'Churned': 1, \"Active\": 0}))\n",
    "df.head()"
   ]
  },
  {
   "cell_type": "code",
   "execution_count": 3,
   "metadata": {},
   "outputs": [],
   "source": [
    "Y = df['Class']\n",
    "X = df.drop([\"Class\"],axis=1)\n",
    "scaler = MinMaxScaler(feature_range=(0, 1))\n",
    "X = scaler.fit_transform(X)"
   ]
  },
  {
   "cell_type": "code",
   "execution_count": 4,
   "metadata": {},
   "outputs": [],
   "source": [
    "X_train, X_test, Y_train, Y_test = train_test_split(X, Y, train_size=0.7, test_size=0.3,random_state=42)"
   ]
  },
  {
   "cell_type": "code",
   "execution_count": 5,
   "metadata": {
    "tags": []
   },
   "outputs": [
    {
     "name": "stdout",
     "output_type": "stream",
     "text": [
      "Loss after 0: 0.6931471805599451\n",
      "Loss after 500: 0.6008373525548075\n",
      "Loss after 1000: 0.5940291206395687\n",
      "Loss after 1500: 0.5891406864546502\n",
      "Loss after 2000: 0.5853487940555712\n",
      "Loss after 2500: 0.5822697049963271\n",
      "Loss after 3000: 0.579693081661733\n",
      "Loss after 3500: 0.5774896701940512\n",
      "Loss after 4000: 0.5755735790604929\n",
      "Loss after 4500: 0.5738846176900239\n",
      "Loss after 5000: 0.5723790117054973\n",
      "Loss after 5500: 0.5710240416844757\n",
      "Loss after 6000: 0.5697947184231485\n",
      "Loss after 6500: 0.5686716108110168\n",
      "Loss after 7000: 0.5676393719663062\n",
      "Loss after 7500: 0.5666857104910388\n",
      "Loss after 8000: 0.5658006563697249\n",
      "Loss after 8500: 0.5649760275281414\n",
      "Loss after 9000: 0.5642050361340849\n",
      "Loss after 9500: 0.5634819940233987\n",
      "Loss after 10000: 0.5628020895594069\n",
      "Loss after 10500: 0.5621612166942944\n",
      "Loss after 11000: 0.5615558426623483\n",
      "Loss after 11500: 0.5609829045931423\n",
      "Loss after 12000: 0.5604397280038891\n",
      "Loss after 12500: 0.5599239620058045\n"
     ]
    }
   ],
   "source": [
    "model = logistic_regression.model(X_train, Y_train, X_test, Y_test, number_of_iterations = 15000, learning_rate = 1, print_loss = True)"
   ]
  },
  {
   "cell_type": "code",
   "execution_count": 6,
   "metadata": {
    "tags": []
   },
   "outputs": [
    {
     "name": "stdout",
     "output_type": "stream",
     "text": [
      "Trọng số w:  [ -1.35482899 -18.80682056   3.89229542   3.45511476  -6.65429091\n",
      "  -1.26856264   7.006365    -0.03323968  -0.10344631   0.09624821\n",
      "   0.14846472  -0.33861646  -1.2513758 ] \n",
      "Hệ số bias b: 1.537521815041203\n",
      "              precision    recall  f1-score   support\n",
      "\n",
      "           0     0.6968    0.7751    0.7338       249\n",
      "           1     0.7667    0.6866    0.7244       268\n",
      "\n",
      "    accuracy                         0.7292       517\n",
      "   macro avg     0.7317    0.7308    0.7291       517\n",
      "weighted avg     0.7330    0.7292    0.7290       517\n",
      "\n",
      "[[193  56]\n",
      " [ 84 184]]\n"
     ]
    }
   ],
   "source": [
    "print('Trọng số w: ', model['w'], '\\nHệ số bias b:', model['b'])\n",
    "report =  metrics.classification_report(Y_test,model['y_prediction_test'],digits=4) \n",
    "\n",
    "print(report)\n",
    "matrix = metrics.confusion_matrix(Y_test,model['y_prediction_test'])\n",
    "print(matrix)"
   ]
  },
  {
   "cell_type": "code",
   "execution_count": 7,
   "metadata": {
    "tags": []
   },
   "outputs": [
    {
     "name": "stdout",
     "output_type": "stream",
     "text": [
      "Trọng số w:  [[-1.27532917 -2.85916916  1.71300104  0.1360953  -2.21087343 -0.61322196\n",
      "   1.16228276 -0.13879367 -0.17184651  0.15453264  0.20369242 -0.24714426\n",
      "  -1.46288833]] \n",
      "Hệ số bias b: [1.42000719]\n",
      "              precision    recall  f1-score   support\n",
      "\n",
      "           0     0.6690    0.7791    0.7199       249\n",
      "           1     0.7577    0.6418    0.6949       268\n",
      "\n",
      "    accuracy                         0.7079       517\n",
      "   macro avg     0.7133    0.7105    0.7074       517\n",
      "weighted avg     0.7150    0.7079    0.7069       517\n",
      "\n",
      "[[194  55]\n",
      " [ 96 172]]\n"
     ]
    }
   ],
   "source": [
    "model1 = LogisticRegression()\n",
    "model1.fit(X_train,Y_train)\n",
    "print('Trọng số w: ', model1.coef_, '\\nHệ số bias b:', model1.intercept_)\n",
    "y_pred = model1.predict(X_test)\n",
    "report =  metrics.classification_report(Y_test,y_pred,digits=4) \n",
    "\n",
    "print(report)\n",
    "matrix = metrics.confusion_matrix(Y_test,y_pred)\n",
    "print(matrix)"
   ]
  },
  {
   "cell_type": "code",
   "execution_count": null,
   "metadata": {},
   "outputs": [],
   "source": []
  }
 ],
 "metadata": {
  "kernelspec": {
   "display_name": "Python 3",
   "language": "python",
   "name": "python3"
  },
  "language_info": {
   "codemirror_mode": {
    "name": "ipython",
    "version": 3
   },
   "file_extension": ".py",
   "mimetype": "text/x-python",
   "name": "python",
   "nbconvert_exporter": "python",
   "pygments_lexer": "ipython3",
   "version": "3.7.6"
  }
 },
 "nbformat": 4,
 "nbformat_minor": 2
}
